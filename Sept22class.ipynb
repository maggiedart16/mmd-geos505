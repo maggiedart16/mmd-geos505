{
 "cells": [
  {
   "cell_type": "code",
   "execution_count": null,
   "id": "eec6e63e",
   "metadata": {},
   "outputs": [],
   "source": [
    "import numpy as np\n",
    "import matplotlib.pyplot as plt\n",
    "\n",
    "N = int(1e6)\n",
    "\n",
    "mu = 10.2 # Sample mean\n",
    "sigma = 6.7 #Sample standard Deviation\n",
    "\n",
    "m = 2.4 #slope\n",
    "b = 104.1 #intercept\n",
    "\n",
    "x = np.random.normal(mu, sigma, N)\n",
    "\n",
    "y = m*x + b + np.random.standard_normal(N)\n",
    "\n",
    "plt.plot(x,y,'k.')\n",
    "\n",
    "\n",
    "\n",
    "x_hist, bin_edges = np.histograms(y, bins=20)\n",
    "\n",
    "bin_center = (bin_edges[0:-1] + bin_edges[1:])/2\n",
    "\n",
    "plt.bar(bin_center, x_hist, width=0.9*(bin_center[1] - bin_center[0]))"
   ]
  }
 ],
 "metadata": {
  "language_info": {
   "name": "python"
  }
 },
 "nbformat": 4,
 "nbformat_minor": 5
}
